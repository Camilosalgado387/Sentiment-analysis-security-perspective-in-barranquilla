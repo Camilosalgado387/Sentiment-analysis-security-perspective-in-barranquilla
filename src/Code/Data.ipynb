{
 "cells": [
  {
   "cell_type": "code",
   "execution_count": 2,
   "metadata": {},
   "outputs": [
    {
     "name": "stdout",
     "output_type": "stream",
     "text": [
      "Tweets guardados en tweets.csv\n"
     ]
    }
   ],
   "source": [
    "import requests\n",
    "import pandas as pd\n",
    "from dotenv import load_dotenv\n",
    "import os\n",
    "\n",
    "# Cargar variables de entorno\n",
    "load_dotenv()\n",
    "BEARER_TOKEN = os.getenv(\"TWITTER_BEARER_TOKEN\")\n",
    "#Crear Headers\n",
    "def create_headers(bearer_token):\n",
    "    headers = {\"Authorization\": f\"Bearer {bearer_token}\"}\n",
    "    return headers\n",
    "#Obtener Tweets\n",
    "def get_tweets(query, bearer_token, max_results=10):\n",
    "    url = \"https://api.twitter.com/2/tweets/search/recent\"\n",
    "    headers = create_headers(bearer_token)\n",
    "    params = {\n",
    "        'query': query,\n",
    "        'max_results': max_results,\n",
    "        'tweet.fields': 'id,text,created_at'\n",
    "    }\n",
    "\n",
    "    response = requests.get(url, headers=headers, params=params)\n",
    "    if response.status_code != 200:\n",
    "        raise Exception(f\"Error al obtener tweets: {response.status_code}, {response.text}\")\n",
    "\n",
    "    return response.json().get('data', [])\n",
    "#Guardar Tweets\n",
    "def save_tweets_to_csv(tweets, filename=\"tweets.csv\"):\n",
    "    df = pd.DataFrame(tweets)\n",
    "    df.to_csv(filename, index=False)\n",
    "    print(f\"Tweets guardados en {filename}\")\n",
    "\n",
    "\n",
    "#Main\n",
    "if __name__ == \"__main__\":\n",
    "    query = \"(inseguridad OR robo OR atracos OR violencia OR delincuencia) Barranquilla -is:retweet\"\n",
    "    try:\n",
    "        tweets = get_tweets(query, BEARER_TOKEN, max_results=10)\n",
    "        if tweets:\n",
    "            save_tweets_to_csv(tweets)\n",
    "        else:\n",
    "            print(\"No se encontraron tweets para la consulta especificada.\")\n",
    "    except Exception as e:\n",
    "        print(f\"Error: {e}\")\n"
   ]
  },
  {
   "cell_type": "code",
   "execution_count": null,
   "metadata": {},
   "outputs": [],
   "source": [
    "#Variables de entorno y headers\n",
    "load_dotenv()\n",
    "BEARER_TOKEN = os.getenv(\"TWITTER_BEARER_TOKEN\")\n",
    "#Crear Headers\n",
    "def create_headers(bearer_token):\n",
    "    headers = {\"Authorization\": f\"Bearer {bearer_token}\"}\n",
    "    return headers\n"
   ]
  },
  {
   "cell_type": "code",
   "execution_count": null,
   "metadata": {},
   "outputs": [],
   "source": [
    "#Obtener y guardar Tweets\n",
    "\n",
    "def get_tweets(query, bearer_token, max_results=10):\n",
    "    url = \"https://api.twitter.com/2/tweets/search/recent\"\n",
    "    headers = create_headers(bearer_token)\n",
    "    params = {\n",
    "        'query': query,\n",
    "        'max_results': max_results,\n",
    "        'tweet.fields': 'id,text,created_at'\n",
    "    }\n",
    "\n",
    "    response = requests.get(url, headers=headers, params=params)\n",
    "    if response.status_code != 200:\n",
    "        raise Exception(f\"Error al obtener tweets: {response.status_code}, {response.text}\")\n",
    "\n",
    "    return response.json().get('data', [])\n",
    "#Guardar Tweets\n",
    "def save_tweets_to_csv(tweets, filename=\"tweets.csv\"):\n",
    "    df = pd.DataFrame(tweets)\n",
    "    df.to_csv(filename, index=False)\n",
    "    print(f\"Tweets guardados en {filename}\")"
   ]
  },
  {
   "cell_type": "code",
   "execution_count": null,
   "metadata": {},
   "outputs": [],
   "source": [
    "#Main\n",
    "if __name__ == \"__main__\":\n",
    "    query = \"(inseguridad OR robo OR atracos OR violencia OR delincuencia) Barranquilla -is:retweet\"\n",
    "    try:\n",
    "        tweets = get_tweets(query, BEARER_TOKEN, max_results=10)\n",
    "        if tweets:\n",
    "            save_tweets_to_csv(tweets)\n",
    "        else:\n",
    "            print(\"No se encontraron tweets para la consulta especificada.\")\n",
    "    except Exception as e:\n",
    "        print(f\"Error: {e}\")"
   ]
  }
 ],
 "metadata": {
  "kernelspec": {
   "display_name": "Python 3",
   "language": "python",
   "name": "python3"
  },
  "language_info": {
   "codemirror_mode": {
    "name": "ipython",
    "version": 3
   },
   "file_extension": ".py",
   "mimetype": "text/x-python",
   "name": "python",
   "nbconvert_exporter": "python",
   "pygments_lexer": "ipython3",
   "version": "3.12.7"
  }
 },
 "nbformat": 4,
 "nbformat_minor": 2
}
